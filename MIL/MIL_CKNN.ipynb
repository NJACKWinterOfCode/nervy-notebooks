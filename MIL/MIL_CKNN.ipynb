{
  "nbformat": 4,
  "nbformat_minor": 0,
  "metadata": {
    "colab": {
      "name": "MIL_CKNN.ipynb",
      "version": "0.3.2",
      "provenance": []
    },
    "kernelspec": {
      "name": "python3",
      "display_name": "Python 3"
    },
    "accelerator": "GPU"
  },
  "cells": [
    {
      "metadata": {
        "id": "6CFAAsBpXdKl",
        "colab_type": "text"
      },
      "cell_type": "markdown",
      "source": [
        "<h1> Multiple Instance Learning - A Lazy Learning Approach </h1>\n",
        "\n",
        "<p> This python notebook has been created to understand the working of CKNN (lazy learner) algorithm for multiple instance learning problem.  Refer <a href=\"http://cogprints.org/2124/3/wang_ICML2000.pdf\"> paper</a>.  In this implementation, stock selection problem has been solved using CKNN.  In the stock selection problem, for each day, the top 80% of stocks have been segregated as positive bags and bottom 20% of stocks have been segregated as negative bags </p>"
      ]
    },
    {
      "metadata": {
        "id": "VpWqBT0gWIVF",
        "colab_type": "text"
      },
      "cell_type": "markdown",
      "source": [
        "<h3> Import libraries </h3>"
      ]
    },
    {
      "metadata": {
        "id": "H3U4DLIfTKes",
        "colab_type": "code",
        "colab": {}
      },
      "cell_type": "code",
      "source": [
        "import numpy as np\n",
        "import pandas as pd\n",
        "import scipy.spatial.distance as dist\n",
        "import math\n",
        "from sklearn.model_selection import train_test_split"
      ],
      "execution_count": 0,
      "outputs": []
    },
    {
      "metadata": {
        "id": "4q3LEDGqWFaA",
        "colab_type": "text"
      },
      "cell_type": "markdown",
      "source": [
        "<h3> Define the CitationKNN Model </h3>"
      ]
    },
    {
      "metadata": {
        "id": "3Bqv-CAAVM8b",
        "colab_type": "code",
        "colab": {}
      },
      "cell_type": "code",
      "source": [
        "class CitationKNN(object):\n",
        "\n",
        "    def __init__(self):\n",
        "        self._bags = None\n",
        "        self._bag_predictions = None\n",
        "        self._labels = None\n",
        "        self._full_bags = None\n",
        "        self._DM = None\n",
        "\n",
        "    def fit(self, train_bags, train_labels, **kwargs):\n",
        "        self._bags = train_bags\n",
        "        self._labels = train_labels\n",
        "        self._no_of_references = kwargs['references']\n",
        "        self._no_of_citers = kwargs['citers']\n",
        "\n",
        "    def predict(self, Testbags):\n",
        "        train_bags = self._bags\n",
        "        pred_labels = np.array([])\n",
        "        self._DM = self.DistanceMatrixCKNN(train_bags)\n",
        "\n",
        "        for i in range(0, len(Testbags)):\n",
        "\n",
        "            citers = []\n",
        "            references = []\n",
        "            distances = []\n",
        "\n",
        "            for j in range(0, len(train_bags)):\n",
        "                distance = _min_hau_bag(Testbags[i], train_bags[j])\n",
        "                distances.append(distance)\n",
        "                self._DM[j].append(distance)\n",
        "\n",
        "            self._DM.append(distances)\n",
        "            last = len(self._DM) - 1\n",
        "            self._DM[last].append(0)\n",
        "            arr = np.array( self._DM[last] )\n",
        "            references = arr.argsort()[:self._no_of_references + 1]\n",
        "\n",
        "            index = np.argwhere(references==last)\n",
        "            references = np.delete(references, index)\n",
        "\n",
        "            for j in range(0, len(self._DM) - 1):\n",
        "                arr = np.array( self._DM[j] )\n",
        "                neighbors = arr.argsort()[:self._no_of_citers + 1]\n",
        "                if last in neighbors:\n",
        "                    citers.append(j)\n",
        "\n",
        "            relevant_test_labels = []\n",
        "            for j in range(0, len(references)):\n",
        "                relevant_test_labels.append(self._labels[references[j]])\n",
        "            for j in range(0, len(citers)):\n",
        "                relevant_test_labels.append(self._labels[citers[j]])\n",
        "\n",
        "            if (relevant_test_labels.count(1.0)):\n",
        "                label_out = 1.0\n",
        "            else:\n",
        "                label_out = -1.0\n",
        "            \n",
        "            pred_labels = np.append(pred_labels,label_out)\n",
        "\n",
        "            self._DM.pop()\n",
        "            for j in range(0, len(self._DM)):\n",
        "                self._DM[j].pop()\n",
        "\n",
        "        return pred_labels\n",
        "\n",
        "    def DistanceMatrixCKNN (self, full_bag):\n",
        "        w, h = len(full_bag), len(full_bag)\n",
        "        Matrix = [[0 for x in range(w)] for y in range(h)] \n",
        "        count=0        \n",
        "        for i in range(0, len(full_bag)):\n",
        "                for j in range(0, len(full_bag)):\n",
        "                    Matrix[i][j] = _min_hau_bag(full_bag[i], full_bag[j])\n",
        "                    \n",
        "        return Matrix"
      ],
      "execution_count": 0,
      "outputs": []
    },
    {
      "metadata": {
        "id": "8lt_cx2zWZPs",
        "colab_type": "text"
      },
      "cell_type": "markdown",
      "source": [
        "<h3> Define the distance metric used by CKNN </h3>"
      ]
    },
    {
      "metadata": {
        "id": "-_xvVxZ4Utwd",
        "colab_type": "code",
        "colab": {}
      },
      "cell_type": "code",
      "source": [
        "def _min_hau_bag(X,Y):\n",
        "    Hausdorff_distance = max( min((min([list(dist.euclidean(x, y) for y in Y) for x in X]))),\n",
        "                               min((min([list(dist.euclidean(x, y) for x in X) for y in Y])))\n",
        "                              )\n",
        "    return Hausdorff_distance"
      ],
      "execution_count": 0,
      "outputs": []
    },
    {
      "metadata": {
        "id": "qPO3GjMGWepV",
        "colab_type": "text"
      },
      "cell_type": "markdown",
      "source": [
        "<h3> Read the data and create positive and negative bags </h3>"
      ]
    },
    {
      "metadata": {
        "id": "aQUInMQoU5fY",
        "colab_type": "code",
        "colab": {}
      },
      "cell_type": "code",
      "source": [
        "def create_bags():\n",
        "    file_path = 'Israel_Stocks.csv'\n",
        "    df = pd.read_csv(file_path,nrows=1500)\n",
        "    df = df.drop(['Ex Coefficient','Index Adjusted Free Float Rate','* Ex Type', 'Date', 'Symbol', 'Label'],axis=1)\n",
        "    df = df.dropna(subset = df.columns)\n",
        "    day = 1\n",
        "    bag = []\n",
        "    positive_bags = []\n",
        "    negative_bags = []\n",
        "    for index,row in df.iterrows():\n",
        "        if(row['Day No.'] != day):\n",
        "            positive_bags.append(bag[0:int(0.8*len(bag))])\n",
        "            negative_bags.append(bag[int(0.8*len(bag)):])\n",
        "            day += 1\n",
        "            bag = []\n",
        "        bag.append(row.values)\n",
        "    if (len(bag) > 0):\n",
        "        positive_bags.append(bag[0:int(0.8*len(bag))])\n",
        "        negative_bags.append(bag[int(0.8*len(bag)):])\n",
        "        \n",
        "    positive_labels = [1]*len(positive_bags)\n",
        "    negative_labels = [-1]*len(negative_bags)\n",
        "    return positive_bags + negative_bags, positive_labels + negative_labels"
      ],
      "execution_count": 0,
      "outputs": []
    },
    {
      "metadata": {
        "id": "WtlOvGkuWl1h",
        "colab_type": "text"
      },
      "cell_type": "markdown",
      "source": [
        "<h3> Split the bags into train and test bags </h3>"
      ]
    },
    {
      "metadata": {
        "id": "FCIEYGevUwhD",
        "colab_type": "code",
        "colab": {
          "base_uri": "https://localhost:8080/",
          "height": 54
        },
        "outputId": "05c16356-5b72-4f88-cf98-ef57f50261c5"
      },
      "cell_type": "code",
      "source": [
        "bags,labels, = create_bags()\n",
        "train_bags, test_bags, train_labels, test_labels = train_test_split(bags,labels,random_state=10)\n",
        "print (len(train_bags))\n",
        "print (len(test_bags))"
      ],
      "execution_count": 26,
      "outputs": [
        {
          "output_type": "stream",
          "text": [
            "73\n",
            "25\n"
          ],
          "name": "stdout"
        }
      ]
    },
    {
      "metadata": {
        "id": "w5G4QpxeWulY",
        "colab_type": "text"
      },
      "cell_type": "markdown",
      "source": [
        "<h3> Test the model for different k values </h3>"
      ]
    },
    {
      "metadata": {
        "id": "vzGGqYKWWt5i",
        "colab_type": "code",
        "colab": {
          "base_uri": "https://localhost:8080/",
          "height": 127
        },
        "outputId": "6652f296-8af8-437b-9349-f2a42396c147"
      },
      "cell_type": "code",
      "source": [
        "for k in range(2,4):\n",
        "\n",
        "    print (\"------MIL_CKNN------\")\n",
        "    cknn_clf = CitationKNN() \n",
        "    parameters_cknn = {'references': k, 'citers': k+2}\n",
        "    cknn_clf.fit(train_bags, train_labels, **parameters_cknn)\n",
        "    pred_labels = cknn_clf.predict(test_bags)\n",
        "    total_count = len(test_labels)\n",
        "    corr_count= 0\n",
        "    for i in range(len(test_labels)):\n",
        "        if (test_labels[i] == pred_labels[i]):\n",
        "            corr_count += 1\n",
        "    acc = float(corr_count) / total_count\n",
        "    print(\"k=\" + str(k)+\", references=\"+str(k)+\", citers=\"+str(k+2))\n",
        "    print(\"acc=\" + str(acc))"
      ],
      "execution_count": 27,
      "outputs": [
        {
          "output_type": "stream",
          "text": [
            "------MIL_CKNN------\n",
            "k=2, references=2, citers=4\n",
            "acc=0.36\n",
            "------MIL_CKNN------\n",
            "k=3, references=3, citers=5\n",
            "acc=0.4\n"
          ],
          "name": "stdout"
        }
      ]
    }
  ]
}